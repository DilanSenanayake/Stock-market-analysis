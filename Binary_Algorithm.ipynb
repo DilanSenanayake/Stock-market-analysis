{
  "cells": [
    {
      "cell_type": "code",
      "source": [
        "import numpy as np\n",
        "import pandas as pd\n",
        "import torch\n",
        "import torch.nn as nn\n",
        "from torch.utils.data import DataLoader\n",
        "from torch.optim import Adam\n",
        "import torch.nn.functional as F\n",
        "from sklearn.preprocessing import StandardScaler\n",
        "from sklearn.preprocessing import MinMaxScaler"
      ],
      "metadata": {
        "id": "5jkXZgmzLEtP"
      },
      "execution_count": null,
      "outputs": []
    },
    {
      "cell_type": "code",
      "source": [
        "from google.colab import drive\n",
        "drive.mount('/content/drive')"
      ],
      "metadata": {
        "colab": {
          "base_uri": "https://localhost:8080/"
        },
        "id": "pFdGN6fXKwkq",
        "outputId": "bc4aad31-c31e-41d7-bd25-e582d6e4ceb2"
      },
      "execution_count": null,
      "outputs": [
        {
          "output_type": "stream",
          "name": "stdout",
          "text": [
            "Mounted at /content/drive\n"
          ]
        }
      ]
    },
    {
      "cell_type": "code",
      "source": [
        "data = pd.read_excel(\"/content/drive/MyDrive/Binary.com tick history/R_50/R_50.xlsx\")"
      ],
      "metadata": {
        "id": "cuajUniXLIi3"
      },
      "execution_count": null,
      "outputs": []
    },
    {
      "cell_type": "code",
      "source": [
        "prices = np.array(data.loc[:, 'Price'])"
      ],
      "metadata": {
        "id": "o8_52oKgLzdf"
      },
      "execution_count": null,
      "outputs": []
    },
    {
      "cell_type": "code",
      "source": [
        "prices"
      ],
      "metadata": {
        "colab": {
          "base_uri": "https://localhost:8080/"
        },
        "id": "3x0VI4PMMgVf",
        "outputId": "f64d80c2-336e-4afc-868c-dbd03a35341c"
      },
      "execution_count": null,
      "outputs": [
        {
          "output_type": "execute_result",
          "data": {
            "text/plain": [
              "array([204.2994, 204.2843, 204.2609, ..., 212.5377, 212.5398, 212.5399])"
            ]
          },
          "metadata": {},
          "execution_count": 5
        }
      ]
    },
    {
      "cell_type": "code",
      "execution_count": null,
      "metadata": {
        "colab": {
          "base_uri": "https://localhost:8080/",
          "height": 449
        },
        "id": "7U1_sonbcHkI",
        "outputId": "531fe24c-24bd-4168-bf05-92d51f86ba84"
      },
      "outputs": [
        {
          "output_type": "display_data",
          "data": {
            "text/plain": [
              "<Figure size 640x480 with 1 Axes>"
            ],
            "image/png": "[encoded data removed]"
          },
          "metadata": {}
        }
      ],
      "source": [
        "import matplotlib.pyplot as plt\n",
        "\n",
        "a = []\n",
        "for i in range(len(prices)):\n",
        "  a.append(i)\n",
        "a = np.array(a)\n",
        "\n",
        "plt.plot(a, prices, 'b')\n",
        "plt.xlabel('Time')\n",
        "plt.ylabel('Price')\n",
        "plt.show()"
      ]
    },
    {
      "cell_type": "code",
      "execution_count": null,
      "metadata": {
        "colab": {
          "base_uri": "https://localhost:8080/"
        },
        "id": "BVNHWOoYcHkJ",
        "outputId": "c11a563d-e2d7-4792-ca47-f7fbac1ce6ef"
      },
      "outputs": [
        {
          "output_type": "execute_result",
          "data": {
            "text/plain": [
              "(28800, 100)"
            ]
          },
          "metadata": {},
          "execution_count": 7
        }
      ],
      "source": [
        "# Data preprocessing\n",
        "# 01\n",
        "\n",
        "q = []\n",
        "#dataset = np.array([])\n",
        "dataset = np.empty((0, 100)) \n",
        "\n",
        "for k in range(0, len(prices), 5000):\n",
        "  r = 0\n",
        "  y = k\n",
        "  for i in range(4800):\n",
        "    p = []\n",
        "    r = y\n",
        "    for j in range(100):\n",
        "      p.append(prices[r])\n",
        "      #print(r)\n",
        "      r = r + 1\n",
        "    dataset = np.append(dataset, [p], axis = 0)\n",
        "    y = y + 1\n",
        "dataset.shape"
      ]
    },
    {
      "cell_type": "code",
      "source": [
        "dataset"
      ],
      "metadata": {
        "colab": {
          "base_uri": "https://localhost:8080/"
        },
        "id": "8p15X7aeMWQc",
        "outputId": "5a553f52-35ff-4fb5-d3c3-99fd5fc592b5"
      },
      "execution_count": null,
      "outputs": [
        {
          "output_type": "execute_result",
          "data": {
            "text/plain": [
              "array([[204.2994, 204.2843, 204.2609, ..., 204.0892, 204.0825, 204.0721],\n",
              "       [204.2843, 204.2609, 204.3022, ..., 204.0825, 204.0721, 204.0223],\n",
              "       [204.2609, 204.3022, 204.2676, ..., 204.0721, 204.0223, 204.0387],\n",
              "       ...,\n",
              "       [212.7084, 212.7098, 212.6679, ..., 212.5154, 212.482 , 212.4789],\n",
              "       [212.7098, 212.6679, 212.5835, ..., 212.482 , 212.4789, 212.488 ],\n",
              "       [212.6679, 212.5835, 212.5817, ..., 212.4789, 212.488 , 212.4745]])"
            ]
          },
          "metadata": {},
          "execution_count": 8
        }
      ]
    },
    {
      "cell_type": "code",
      "execution_count": null,
      "metadata": {
        "colab": {
          "base_uri": "https://localhost:8080/",
          "height": 468
        },
        "id": "xl3ks8encHkK",
        "outputId": "2d878234-912b-4abd-ac4b-421dba27f509"
      },
      "outputs": [
        {
          "output_type": "execute_result",
          "data": {
            "text/plain": [
              "             0         1         2         3         4         5         6   \\\n",
              "0      204.2994  204.2843  204.2609  204.3022  204.2676  204.2589  204.2417   \n",
              "1      204.2843  204.2609  204.3022  204.2676  204.2589  204.2417  204.2488   \n",
              "2      204.2609  204.3022  204.2676  204.2589  204.2417  204.2488  204.2875   \n",
              "3      204.3022  204.2676  204.2589  204.2417  204.2488  204.2875  204.2654   \n",
              "4      204.2676  204.2589  204.2417  204.2488  204.2875  204.2654  204.3088   \n",
              "...         ...       ...       ...       ...       ...       ...       ...   \n",
              "28795  212.6950  212.7290  212.7084  212.7098  212.6679  212.5835  212.5817   \n",
              "28796  212.7290  212.7084  212.7098  212.6679  212.5835  212.5817  212.5460   \n",
              "28797  212.7084  212.7098  212.6679  212.5835  212.5817  212.5460  212.5531   \n",
              "28798  212.7098  212.6679  212.5835  212.5817  212.5460  212.5531  212.5457   \n",
              "28799  212.6679  212.5835  212.5817  212.5460  212.5531  212.5457  212.5409   \n",
              "\n",
              "             7         8         9   ...        90        91        92  \\\n",
              "0      204.2488  204.2875  204.2654  ...  204.2126  204.2096  204.1877   \n",
              "1      204.2875  204.2654  204.3088  ...  204.2096  204.1877  204.1513   \n",
              "2      204.2654  204.3088  204.3299  ...  204.1877  204.1513  204.1530   \n",
              "3      204.3088  204.3299  204.3100  ...  204.1513  204.1530  204.1016   \n",
              "4      204.3299  204.3100  204.2989  ...  204.1530  204.1016  204.0770   \n",
              "...         ...       ...       ...  ...       ...       ...       ...   \n",
              "28795  212.5460  212.5531  212.5457  ...  212.6999  212.6708  212.5937   \n",
              "28796  212.5531  212.5457  212.5409  ...  212.6708  212.5937  212.6200   \n",
              "28797  212.5457  212.5409  212.5324  ...  212.5937  212.6200  212.6251   \n",
              "28798  212.5409  212.5324  212.5586  ...  212.6200  212.6251  212.6264   \n",
              "28799  212.5324  212.5586  212.5044  ...  212.6251  212.6264  212.6255   \n",
              "\n",
              "             93        94        95        96        97        98        99  \n",
              "0      204.1513  204.1530  204.1016  204.0770  204.0892  204.0825  204.0721  \n",
              "1      204.1530  204.1016  204.0770  204.0892  204.0825  204.0721  204.0223  \n",
              "2      204.1016  204.0770  204.0892  204.0825  204.0721  204.0223  204.0387  \n",
              "3      204.0770  204.0892  204.0825  204.0721  204.0223  204.0387  204.0276  \n",
              "4      204.0892  204.0825  204.0721  204.0223  204.0387  204.0276  204.0121  \n",
              "...         ...       ...       ...       ...       ...       ...       ...  \n",
              "28795  212.6200  212.6251  212.6264  212.6255  212.5819  212.5499  212.5154  \n",
              "28796  212.6251  212.6264  212.6255  212.5819  212.5499  212.5154  212.4820  \n",
              "28797  212.6264  212.6255  212.5819  212.5499  212.5154  212.4820  212.4789  \n",
              "28798  212.6255  212.5819  212.5499  212.5154  212.4820  212.4789  212.4880  \n",
              "28799  212.5819  212.5499  212.5154  212.4820  212.4789  212.4880  212.4745  \n",
              "\n",
              "[28800 rows x 100 columns]"
            ],
            "text/html": [
              "\n",
              "  <div id=\"df-4e5eb338-0e41-4809-a789-b4977348c43a\">\n",
              "    <div class=\"colab-df-container\">\n",
              "      <div>\n",
              "<style scoped>\n",
              "    .dataframe tbody tr th:only-of-type {\n",
              "        vertical-align: middle;\n",
              "    }\n",
              "\n",
              "    .dataframe tbody tr th {\n",
              "        vertical-align: top;\n",
              "    }\n",
              "\n",
              "    .dataframe thead th {\n",
              "        text-align: right;\n",
              "    }\n",
              "</style>\n",
              "<table border=\"1\" class=\"dataframe\">\n",
              "  <thead>\n",
              "    <tr style=\"text-align: right;\">\n",
              "      <th></th>\n",
              "      <th>0</th>\n",
              "      <th>1</th>\n",
              "      <th>2</th>\n",
              "      <th>3</th>\n",
              "      <th>4</th>\n",
              "      <th>5</th>\n",
              "      <th>6</th>\n",
              "      <th>7</th>\n",
              "      <th>8</th>\n",
              "      <th>9</th>\n",
              "      <th>...</th>\n",
              "      <th>90</th>\n",
              "      <th>91</th>\n",
              "      <th>92</th>\n",
              "      <th>93</th>\n",
              "      <th>94</th>\n",
              "      <th>95</th>\n",
              "      <th>96</th>\n",
              "      <th>97</th>\n",
              "      <th>98</th>\n",
              "      <th>99</th>\n",
              "    </tr>\n",
              "  </thead>\n",
              "  <tbody>\n",
              "    <tr>\n",
              "      <th>0</th>\n",
              "      <td>204.2994</td>\n",
              "      <td>204.2843</td>\n",
              "      <td>204.2609</td>\n",
              "      <td>204.3022</td>\n",
              "      <td>204.2676</td>\n",
              "      <td>204.2589</td>\n",
              "      <td>204.2417</td>\n",
              "      <td>204.2488</td>\n",
              "      <td>204.2875</td>\n",
              "      <td>204.2654</td>\n",
              "      <td>...</td>\n",
              "      <td>204.2126</td>\n",
              "      <td>204.2096</td>\n",
              "      <td>204.1877</td>\n",
              "      <td>204.1513</td>\n",
              "      <td>204.1530</td>\n",
              "      <td>204.1016</td>\n",
              "      <td>204.0770</td>\n",
              "      <td>204.0892</td>\n",
              "      <td>204.0825</td>\n",
              "      <td>204.0721</td>\n",
              "    </tr>\n",
              "    <tr>\n",
              "      <th>1</th>\n",
              "      <td>204.2843</td>\n",
              "      <td>204.2609</td>\n",
              "      <td>204.3022</td>\n",
              "      <td>204.2676</td>\n",
              "      <td>204.2589</td>\n",
              "      <td>204.2417</td>\n",
              "      <td>204.2488</td>\n",
              "      <td>204.2875</td>\n",
              "      <td>204.2654</td>\n",
              "      <td>204.3088</td>\n",
              "      <td>...</td>\n",
              "      <td>204.2096</td>\n",
              "      <td>204.1877</td>\n",
              "      <td>204.1513</td>\n",
              "      <td>204.1530</td>\n",
              "      <td>204.1016</td>\n",
              "      <td>204.0770</td>\n",
              "      <td>204.0892</td>\n",
              "      <td>204.0825</td>\n",
              "      <td>204.0721</td>\n",
              "      <td>204.0223</td>\n",
              "    </tr>\n",
              "    <tr>\n",
              "      <th>2</th>\n",
              "      <td>204.2609</td>\n",
              "      <td>204.3022</td>\n",
              "      <td>204.2676</td>\n",
              "      <td>204.2589</td>\n",
              "      <td>204.2417</td>\n",
              "      <td>204.2488</td>\n",
              "      <td>204.2875</td>\n",
              "      <td>204.2654</td>\n",
              "      <td>204.3088</td>\n",
              "      <td>204.3299</td>\n",
              "      <td>...</td>\n",
              "      <td>204.1877</td>\n",
              "      <td>204.1513</td>\n",
              "      <td>204.1530</td>\n",
              "      <td>204.1016</td>\n",
              "      <td>204.0770</td>\n",
              "      <td>204.0892</td>\n",
              "      <td>204.0825</td>\n",
              "      <td>204.0721</td>\n",
              "      <td>204.0223</td>\n",
              "      <td>204.0387</td>\n",
              "    </tr>\n",
              "    <tr>\n",
              "      <th>3</th>\n",
              "      <td>204.3022</td>\n",
              "      <td>204.2676</td>\n",
              "      <td>204.2589</td>\n",
              "      <td>204.2417</td>\n",
              "      <td>204.2488</td>\n",
              "      <td>204.2875</td>\n",
              "      <td>204.2654</td>\n",
              "      <td>204.3088</td>\n",
              "      <td>204.3299</td>\n",
              "      <td>204.3100</td>\n",
              "      <td>...</td>\n",
              "      <td>204.1513</td>\n",
              "      <td>204.1530</td>\n",
              "      <td>204.1016</td>\n",
              "      <td>204.0770</td>\n",
              "      <td>204.0892</td>\n",
              "      <td>204.0825</td>\n",
              "      <td>204.0721</td>\n",
              "      <td>204.0223</td>\n",
              "      <td>204.0387</td>\n",
              "      <td>204.0276</td>\n",
              "    </tr>\n",
              "    <tr>\n",
              "      <th>4</th>\n",
              "      <td>204.2676</td>\n",
              "      <td>204.2589</td>\n",
              "      <td>204.2417</td>\n",
              "      <td>204.2488</td>\n",
              "      <td>204.2875</td>\n",
              "      <td>204.2654</td>\n",
              "      <td>204.3088</td>\n",
              "      <td>204.3299</td>\n",
              "      <td>204.3100</td>\n",
              "      <td>204.2989</td>\n",
              "      <td>...</td>\n",
              "      <td>204.1530</td>\n",
              "      <td>204.1016</td>\n",
              "      <td>204.0770</td>\n",
              "      <td>204.0892</td>\n",
              "      <td>204.0825</td>\n",
              "      <td>204.0721</td>\n",
              "      <td>204.0223</td>\n",
              "      <td>204.0387</td>\n",
              "      <td>204.0276</td>\n",
              "      <td>204.0121</td>\n",
              "    </tr>\n",
              "    <tr>\n",
              "      <th>...</th>\n",
              "      <td>...</td>\n",
              "      <td>...</td>\n",
              "      <td>...</td>\n",
              "      <td>...</td>\n",
              "      <td>...</td>\n",
              "      <td>...</td>\n",
              "      <td>...</td>\n",
              "      <td>...</td>\n",
              "      <td>...</td>\n",
              "      <td>...</td>\n",
              "      <td>...</td>\n",
              "      <td>...</td>\n",
              "      <td>...</td>\n",
              "      <td>...</td>\n",
              "      <td>...</td>\n",
              "      <td>...</td>\n",
              "      <td>...</td>\n",
              "      <td>...</td>\n",
              "      <td>...</td>\n",
              "      <td>...</td>\n",
              "      <td>...</td>\n",
              "    </tr>\n",
              "    <tr>\n",
              "      <th>28795</th>\n",
              "      <td>212.6950</td>\n",
              "      <td>212.7290</td>\n",
              "      <td>212.7084</td>\n",
              "      <td>212.7098</td>\n",
              "      <td>212.6679</td>\n",
              "      <td>212.5835</td>\n",
              "      <td>212.5817</td>\n",
              "      <td>212.5460</td>\n",
              "      <td>212.5531</td>\n",
              "      <td>212.5457</td>\n",
              "      <td>...</td>\n",
              "      <td>212.6999</td>\n",
              "      <td>212.6708</td>\n",
              "      <td>212.5937</td>\n",
              "      <td>212.6200</td>\n",
              "      <td>212.6251</td>\n",
              "      <td>212.6264</td>\n",
              "      <td>212.6255</td>\n",
              "      <td>212.5819</td>\n",
              "      <td>212.5499</td>\n",
              "      <td>212.5154</td>\n",
              "    </tr>\n",
              "    <tr>\n",
              "      <th>28796</th>\n",
              "      <td>212.7290</td>\n",
              "      <td>212.7084</td>\n",
              "      <td>212.7098</td>\n",
              "      <td>212.6679</td>\n",
              "      <td>212.5835</td>\n",
              "      <td>212.5817</td>\n",
              "      <td>212.5460</td>\n",
              "      <td>212.5531</td>\n",
              "      <td>212.5457</td>\n",
              "      <td>212.5409</td>\n",
              "      <td>...</td>\n",
              "      <td>212.6708</td>\n",
              "      <td>212.5937</td>\n",
              "      <td>212.6200</td>\n",
              "      <td>212.6251</td>\n",
              "      <td>212.6264</td>\n",
              "      <td>212.6255</td>\n",
              "      <td>212.5819</td>\n",
              "      <td>212.5499</td>\n",
              "      <td>212.5154</td>\n",
              "      <td>212.4820</td>\n",
              "    </tr>\n",
              "    <tr>\n",
              "      <th>28797</th>\n",
              "      <td>212.7084</td>\n",
              "      <td>212.7098</td>\n",
              "      <td>212.6679</td>\n",
              "      <td>212.5835</td>\n",
              "      <td>212.5817</td>\n",
              "      <td>212.5460</td>\n",
              "      <td>212.5531</td>\n",
              "      <td>212.5457</td>\n",
              "      <td>212.5409</td>\n",
              "      <td>212.5324</td>\n",
              "      <td>...</td>\n",
              "      <td>212.5937</td>\n",
              "      <td>212.6200</td>\n",
              "      <td>212.6251</td>\n",
              "      <td>212.6264</td>\n",
              "      <td>212.6255</td>\n",
              "      <td>212.5819</td>\n",
              "      <td>212.5499</td>\n",
              "      <td>212.5154</td>\n",
              "      <td>212.4820</td>\n",
              "      <td>212.4789</td>\n",
              "    </tr>\n",
              "    <tr>\n",
              "      <th>28798</th>\n",
              "      <td>212.7098</td>\n",
              "      <td>212.6679</td>\n",
              "      <td>212.5835</td>\n",
              "      <td>212.5817</td>\n",
              "      <td>212.5460</td>\n",
              "      <td>212.5531</td>\n",
              "      <td>212.5457</td>\n",
              "      <td>212.5409</td>\n",
              "      <td>212.5324</td>\n",
              "      <td>212.5586</td>\n",
              "      <td>...</td>\n",
              "      <td>212.6200</td>\n",
              "      <td>212.6251</td>\n",
              "      <td>212.6264</td>\n",
              "      <td>212.6255</td>\n",
              "      <td>212.5819</td>\n",
              "      <td>212.5499</td>\n",
              "      <td>212.5154</td>\n",
              "      <td>212.4820</td>\n",
              "      <td>212.4789</td>\n",
              "      <td>212.4880</td>\n",
              "    </tr>\n",
              "    <tr>\n",
              "      <th>28799</th>\n",
              "      <td>212.6679</td>\n",
              "      <td>212.5835</td>\n",
              "      <td>212.5817</td>\n",
              "      <td>212.5460</td>\n",
              "      <td>212.5531</td>\n",
              "      <td>212.5457</td>\n",
              "      <td>212.5409</td>\n",
              "      <td>212.5324</td>\n",
              "      <td>212.5586</td>\n",
              "      <td>212.5044</td>\n",
              "      <td>...</td>\n",
              "      <td>212.6251</td>\n",
              "      <td>212.6264</td>\n",
              "      <td>212.6255</td>\n",
              "      <td>212.5819</td>\n",
              "      <td>212.5499</td>\n",
              "      <td>212.5154</td>\n",
              "      <td>212.4820</td>\n",
              "      <td>212.4789</td>\n",
              "      <td>212.4880</td>\n",
              "      <td>212.4745</td>\n",
              "    </tr>\n",
              "  </tbody>\n",
              "</table>\n",
              "<p>28800 rows × 100 columns</p>\n",
              "</div>\n",
              "      <button class=\"colab-df-convert\" onclick=\"convertToInteractive('df-4e5eb338-0e41-4809-a789-b4977348c43a')\"\n",
              "              title=\"Convert this dataframe to an interactive table.\"\n",
              "              style=\"display:none;\">\n",
              "        \n",
              "  <svg xmlns=\"http://www.w3.org/2000/svg\" height=\"24px\"viewBox=\"0 0 24 24\"\n",
              "       width=\"24px\">\n",
              "    <path d=\"M0 0h24v24H0V0z\" fill=\"none\"/>\n",
              "    <path d=\"M18.56 5.44l.94 2.06.94-2.06 2.06-.94-2.06-.94-.94-2.06-.94 2.06-2.06.94zm-11 1L8.5 8.5l.94-2.06 2.06-.94-2.06-.94L8.5 2.5l-.94 2.06-2.06.94zm10 10l.94 2.06.94-2.06 2.06-.94-2.06-.94-.94-2.06-.94 2.06-2.06.94z\"/><path d=\"M17.41 7.96l-1.37-1.37c-.4-.4-.92-.59-1.43-.59-.52 0-1.04.2-1.43.59L10.3 9.45l-7.72 7.72c-.78.78-.78 2.05 0 2.83L4 21.41c.39.39.9.59 1.41.59.51 0 1.02-.2 1.41-.59l7.78-7.78 2.81-2.81c.8-.78.8-2.07 0-2.86zM5.41 20L4 18.59l7.72-7.72 1.47 1.35L5.41 20z\"/>\n",
              "  </svg>\n",
              "      </button>\n",
              "      \n",
              "  <style>\n",
              "    .colab-df-container {\n",
              "      display:flex;\n",
              "      flex-wrap:wrap;\n",
              "      gap: 12px;\n",
              "    }\n",
              "\n",
              "    .colab-df-convert {\n",
              "      background-color: #E8F0FE;\n",
              "      border: none;\n",
              "      border-radius: 50%;\n",
              "      cursor: pointer;\n",
              "      display: none;\n",
              "      fill: #1967D2;\n",
              "      height: 32px;\n",
              "      padding: 0 0 0 0;\n",
              "      width: 32px;\n",
              "    }\n",
              "\n",
              "    .colab-df-convert:hover {\n",
              "      background-color: #E2EBFA;\n",
              "      box-shadow: 0px 1px 2px rgba(60, 64, 67, 0.3), 0px 1px 3px 1px rgba(60, 64, 67, 0.15);\n",
              "      fill: #174EA6;\n",
              "    }\n",
              "\n",
              "    [theme=dark] .colab-df-convert {\n",
              "      background-color: #3B4455;\n",
              "      fill: #D2E3FC;\n",
              "    }\n",
              "\n",
              "    [theme=dark] .colab-df-convert:hover {\n",
              "      background-color: #434B5C;\n",
              "      box-shadow: 0px 1px 3px 1px rgba(0, 0, 0, 0.15);\n",
              "      filter: drop-shadow(0px 1px 2px rgba(0, 0, 0, 0.3));\n",
              "      fill: #FFFFFF;\n",
              "    }\n",
              "  </style>\n",
              "\n",
              "      <script>\n",
              "        const buttonEl =\n",
              "          document.querySelector('#df-4e5eb338-0e41-4809-a789-b4977348c43a button.colab-df-convert');\n",
              "        buttonEl.style.display =\n",
              "          google.colab.kernel.accessAllowed ? 'block' : 'none';\n",
              "\n",
              "        async function convertToInteractive(key) {\n",
              "          const element = document.querySelector('#df-4e5eb338-0e41-4809-a789-b4977348c43a');\n",
              "          const dataTable =\n",
              "            await google.colab.kernel.invokeFunction('convertToInteractive',\n",
              "                                                     [key], {});\n",
              "          if (!dataTable) return;\n",
              "\n",
              "          const docLinkHtml = 'Like what you see? Visit the ' +\n",
              "            '<a target=\"_blank\" href=https://colab.research.google.com/notebooks/data_table.ipynb>data table notebook</a>'\n",
              "            + ' to learn more about interactive tables.';\n",
              "          element.innerHTML = '';\n",
              "          dataTable['output_type'] = 'display_data';\n",
              "          await google.colab.output.renderOutput(dataTable, element);\n",
              "          const docLink = document.createElement('div');\n",
              "          docLink.innerHTML = docLinkHtml;\n",
              "          element.appendChild(docLink);\n",
              "        }\n",
              "      </script>\n",
              "    </div>\n",
              "  </div>\n",
              "  "
            ]
          },
          "metadata": {},
          "execution_count": 9
        }
      ],
      "source": [
        "import pandas as pd\n",
        "z = pd.DataFrame(dataset)\n",
        "z"
      ]
    },
    {
      "cell_type": "code",
      "source": [
        "# Labels\n",
        "\n",
        "labels1 = []\n",
        "for k in range(0, len(prices), 5000):\n",
        "  for j in range(k+99,k+4899):\n",
        "    lab = (prices[j+10] - prices[j])\n",
        "    if lab > 0:\n",
        "      lab = 2\n",
        "    if lab < 0:\n",
        "      lab = 1\n",
        "    if lab == 0:\n",
        "      lab = 0\n",
        "    labels1.append(lab)\n",
        "labels1 = np.array(labels1)"
      ],
      "metadata": {
        "id": "44ZYK_c_NZg6"
      },
      "execution_count": null,
      "outputs": []
    },
    {
      "cell_type": "code",
      "source": [
        "len(labels1)"
      ],
      "metadata": {
        "colab": {
          "base_uri": "https://localhost:8080/"
        },
        "id": "EYjAQ_bLO55R",
        "outputId": "5df3fe5f-b273-4e35-fb17-313ceb261ae2"
      },
      "execution_count": null,
      "outputs": [
        {
          "output_type": "execute_result",
          "data": {
            "text/plain": [
              "28800"
            ]
          },
          "metadata": {},
          "execution_count": 43
        }
      ]
    },
    {
      "cell_type": "code",
      "source": [
        "labels1"
      ],
      "metadata": {
        "colab": {
          "base_uri": "https://localhost:8080/"
        },
        "id": "G8yEuK3nOjUI",
        "outputId": "0e0b5ebc-5fdb-4b23-f185-7625fe9e8a96"
      },
      "execution_count": null,
      "outputs": [
        {
          "output_type": "execute_result",
          "data": {
            "text/plain": [
              "array([1, 1, 1, ..., 2, 2, 2])"
            ]
          },
          "metadata": {},
          "execution_count": 44
        }
      ]
    },
    {
      "cell_type": "code",
      "execution_count": null,
      "metadata": {
        "colab": {
          "base_uri": "https://localhost:8080/"
        },
        "id": "oHPckK6KcHkL",
        "outputId": "4847fba8-6cd2-416e-d8dd-fc4e60604a21"
      },
      "outputs": [
        {
          "output_type": "execute_result",
          "data": {
            "text/plain": [
              "2"
            ]
          },
          "metadata": {},
          "execution_count": 45
        }
      ],
      "source": [
        "np.max(labels1)"
      ]
    },
    {
      "cell_type": "code",
      "execution_count": null,
      "metadata": {
        "colab": {
          "base_uri": "https://localhost:8080/",
          "height": 430
        },
        "id": "r1YFCiEocHkL",
        "outputId": "2b50a740-cac5-4092-f128-6fd93c2ef17f"
      },
      "outputs": [
        {
          "output_type": "display_data",
          "data": {
            "text/plain": [
              "<Figure size 640x480 with 1 Axes>"
            ],
            "image/png": "[encoded data removed]"
          },
          "metadata": {}
        }
      ],
      "source": [
        "# Plot labels\n",
        "q = []\n",
        "for i in range(len(labels1[:10])):\n",
        "    q.append(i)\n",
        "\n",
        "plt.plot(q, labels1[:10], 'b')\n",
        "# plt.xlabel('Time')\n",
        "# plt.ylabel('Price')\n",
        "plt.show()"
      ]
    },
    {
      "cell_type": "code",
      "execution_count": null,
      "metadata": {
        "id": "LdW7fn-qcHkL"
      },
      "outputs": [],
      "source": [
        "def sig_image(data,size):\n",
        "    X=np.zeros((data.shape[0],size,size))\n",
        "    for i in range(data.shape[0]):\n",
        "        X[i]=(data[i,:].reshape(size,size))\n",
        "    return X.astype(np.float16)\n",
        "\n",
        "def mean(data,no_elements):\n",
        "    X=np.zeros((data.shape[0],data.shape[1]))\n",
        "    for i in range(data.shape[1]-no_elements+1):\n",
        "        X[:,i]=np.mean(data[:,i:i+no_elements],axis=1)\n",
        "    return X.astype(np.float16)\n",
        "\n",
        "def median(data,no_elements):\n",
        "    X=np.zeros((data.shape[0],data.shape[1]))\n",
        "    for i in range(data.shape[1]-no_elements+1):\n",
        "        X[:,i]=np.median(data[:,i:i+no_elements],axis=1)\n",
        "    return X.astype(np.float16)"
      ]
    },
    {
      "cell_type": "code",
      "execution_count": null,
      "metadata": {
        "id": "EuGeCa82cHkM"
      },
      "outputs": [],
      "source": [
        "channel_mean=(mean(dataset,5)).astype(np.float16)\n",
        "x_m=sig_image(channel_mean,10)\n",
        "\n",
        "channel_median=(median(dataset,5)).astype(np.float16)\n",
        "x_md=sig_image(channel_median,10)"
      ]
    },
    {
      "cell_type": "code",
      "execution_count": null,
      "metadata": {
        "colab": {
          "base_uri": "https://localhost:8080/"
        },
        "id": "RUlZyePgcHkM",
        "outputId": "1cba0fd7-7ca6-49e2-9e3b-5881ed81c587"
      },
      "outputs": [
        {
          "output_type": "execute_result",
          "data": {
            "text/plain": [
              "(28800, 10, 10)"
            ]
          },
          "metadata": {},
          "execution_count": 17
        }
      ],
      "source": [
        "dataset1 = sig_image(dataset,10)\n",
        "dataset1.shape"
      ]
    },
    {
      "cell_type": "code",
      "execution_count": null,
      "metadata": {
        "colab": {
          "base_uri": "https://localhost:8080/"
        },
        "id": "Sn39uzQ0cHkM",
        "outputId": "d798abaa-f761-41a0-9a61-61f60a8555ac"
      },
      "outputs": [
        {
          "output_type": "execute_result",
          "data": {
            "text/plain": [
              "(28800, 2, 10, 10)"
            ]
          },
          "metadata": {},
          "execution_count": 18
        }
      ],
      "source": [
        "X=np.stack((dataset1, x_m),axis=1).astype(np.float16)\n",
        "X.shape"
      ]
    },
    {
      "cell_type": "code",
      "execution_count": null,
      "metadata": {
        "colab": {
          "base_uri": "https://localhost:8080/"
        },
        "id": "tj0xJajAcHkN",
        "outputId": "226791af-85fc-47d2-b277-ca66ace4322a"
      },
      "outputs": [
        {
          "output_type": "execute_result",
          "data": {
            "text/plain": [
              "((23040, 2, 10, 10), (5760, 2, 10, 10))"
            ]
          },
          "metadata": {},
          "execution_count": 47
        }
      ],
      "source": [
        "from sklearn.model_selection import train_test_split\n",
        "trainx, testx, trainlabel, testlabel = train_test_split(X, labels1, test_size=0.2, random_state=20)\n",
        "\n",
        "sig_train1, sig_test1 = trainx,testx\n",
        "lab_train1, lab_test1 = trainlabel,testlabel\n",
        "sig_train1.shape, sig_test1.shape"
      ]
    },
    {
      "cell_type": "code",
      "execution_count": null,
      "metadata": {
        "id": "S9ddI1lqcHkN"
      },
      "outputs": [],
      "source": [
        "sig_train = torch.from_numpy(sig_train1)\n",
        "sig_test = torch.from_numpy(sig_test1)\n",
        "lab_train= torch.from_numpy(lab_train1)\n",
        "lab_test = torch.from_numpy(lab_test1)"
      ]
    },
    {
      "cell_type": "code",
      "execution_count": null,
      "metadata": {
        "id": "GqwfAzEDcHkN"
      },
      "outputs": [],
      "source": [
        "import torch.utils.data as data_utils\n",
        "\n",
        "batch_size = 1024\n",
        "train_tensor = data_utils.TensorDataset(sig_train, lab_train) \n",
        "train_loader = data_utils.DataLoader(dataset = train_tensor, batch_size = batch_size, shuffle = False)"
      ]
    },
    {
      "cell_type": "code",
      "execution_count": null,
      "metadata": {
        "id": "lBttr74AcHkO"
      },
      "outputs": [],
      "source": [
        "batch_size = 128\n",
        "test_tensor = data_utils.TensorDataset(sig_test, lab_test) \n",
        "test_loader = data_utils.DataLoader(dataset = test_tensor, batch_size = batch_size, shuffle = False)"
      ]
    },
    {
      "cell_type": "code",
      "execution_count": null,
      "metadata": {
        "id": "WsfkRdm1cHkO"
      },
      "outputs": [],
      "source": [
        "class CNN(nn.Module):\n",
        "    def __init__(self):\n",
        "        super(CNN, self).__init__()\n",
        "        self.conv1 = nn.Conv2d(2, 32, kernel_size=4,stride=1,padding = 1)\n",
        "        self.mp1 = nn.MaxPool2d(kernel_size=2,stride=1)\n",
        "        self.conv2 = nn.Conv2d(32,64, kernel_size=4,stride =1,padding = 1)\n",
        "        self.mp2 = nn.MaxPool2d(kernel_size=2,stride=1)\n",
        "        self.fc1= nn.Linear(2304,256)\n",
        "        self.dp1 = nn.Dropout(p=0.1)\n",
        "        self.fc2 = nn.Linear(256,3)\n",
        "\n",
        "    def forward(self, x):\n",
        "        in_size = x.size(0)\n",
        "        x = F.relu(self.mp1(self.conv1(x)))    \n",
        "        x = F.relu(self.mp2(self.conv2(x)))\n",
        "        x = x.view(in_size,-1)\n",
        "        x = F.relu(self.fc1(x))\n",
        "        x = self.dp1(x)\n",
        "        x = self.fc2(x)\n",
        "        \n",
        "        return F.log_softmax(x, dim=1)"
      ]
    },
    {
      "cell_type": "code",
      "execution_count": null,
      "metadata": {
        "id": "zqHZy1p4cHkO"
      },
      "outputs": [],
      "source": [
        "cnn = CNN().double()\n",
        "criterion = nn.CrossEntropyLoss()\n",
        "optimizer = torch.optim.Adam(cnn.parameters(), lr=0.001)"
      ]
    },
    {
      "cell_type": "code",
      "execution_count": null,
      "metadata": {
        "id": "ZH12Cj0bcHkO"
      },
      "outputs": [],
      "source": [
        "num_epochs = 10"
      ]
    },
    {
      "cell_type": "code",
      "execution_count": null,
      "metadata": {
        "colab": {
          "base_uri": "https://localhost:8080/",
          "height": 1000
        },
        "id": "BxKMNG2PcHkP",
        "outputId": "b2754e2b-43db-4e81-e8f4-1dcd4f55e626"
      },
      "outputs": [
        {
          "output_type": "stream",
          "name": "stdout",
          "text": [
            "Epoch [1/10], Step [1/23], Loss: 7.9132, Train Accuracy: 51.95%\n",
            "Epoch [1/10], Step [2/23], Loss: 99.0077, Train Accuracy: 50.59%\n",
            "Epoch [1/10], Step [3/23], Loss: 40.9362, Train Accuracy: 51.37%\n",
            "Epoch [1/10], Step [4/23], Loss: 5.8290, Train Accuracy: 48.14%\n",
            "Epoch [1/10], Step [5/23], Loss: 3.6460, Train Accuracy: 43.07%\n",
            "Epoch [1/10], Step [6/23], Loss: 1.8189, Train Accuracy: 48.44%\n",
            "Epoch [1/10], Step [7/23], Loss: 0.9072, Train Accuracy: 50.00%\n",
            "Epoch [1/10], Step [8/23], Loss: 1.8462, Train Accuracy: 47.85%\n",
            "Epoch [1/10], Step [9/23], Loss: 0.7901, Train Accuracy: 49.90%\n",
            "Epoch [1/10], Step [10/23], Loss: 1.2807, Train Accuracy: 50.78%\n",
            "Epoch [1/10], Step [11/23], Loss: 1.1775, Train Accuracy: 50.29%\n",
            "Epoch [1/10], Step [12/23], Loss: 0.7476, Train Accuracy: 51.66%\n",
            "Epoch [1/10], Step [13/23], Loss: 0.8511, Train Accuracy: 48.54%\n",
            "Epoch [1/10], Step [14/23], Loss: 0.8255, Train Accuracy: 51.46%\n",
            "Epoch [1/10], Step [15/23], Loss: 0.8260, Train Accuracy: 48.14%\n",
            "Epoch [1/10], Step [16/23], Loss: 0.7372, Train Accuracy: 48.44%\n",
            "Epoch [1/10], Step [17/23], Loss: 0.7115, Train Accuracy: 51.07%\n",
            "Epoch [1/10], Step [18/23], Loss: 0.7226, Train Accuracy: 52.25%\n",
            "Epoch [1/10], Step [19/23], Loss: 0.7352, Train Accuracy: 50.59%\n",
            "Epoch [1/10], Step [20/23], Loss: 0.7258, Train Accuracy: 50.98%\n",
            "Epoch [1/10], Step [21/23], Loss: 0.7158, Train Accuracy: 50.78%\n",
            "Epoch [1/10], Step [22/23], Loss: 0.7091, Train Accuracy: 53.52%\n",
            "Epoch [1/10], Step [23/23], Loss: 0.7142, Train Accuracy: 50.00%\n",
            "Epoch [2/10], Step [1/23], Loss: 0.7199, Train Accuracy: 49.12%\n",
            "Epoch [2/10], Step [2/23], Loss: 0.7216, Train Accuracy: 50.10%\n",
            "Epoch [2/10], Step [3/23], Loss: 0.7212, Train Accuracy: 48.34%\n",
            "Epoch [2/10], Step [4/23], Loss: 0.7170, Train Accuracy: 48.24%\n",
            "Epoch [2/10], Step [5/23], Loss: 0.7099, Train Accuracy: 48.73%\n",
            "Epoch [2/10], Step [6/23], Loss: 0.7144, Train Accuracy: 49.61%\n",
            "Epoch [2/10], Step [7/23], Loss: 0.7068, Train Accuracy: 48.63%\n",
            "Epoch [2/10], Step [8/23], Loss: 0.7041, Train Accuracy: 48.83%\n",
            "Epoch [2/10], Step [9/23], Loss: 0.6993, Train Accuracy: 50.88%\n",
            "Epoch [2/10], Step [10/23], Loss: 0.6965, Train Accuracy: 50.39%\n",
            "Epoch [2/10], Step [11/23], Loss: 0.7049, Train Accuracy: 49.41%\n",
            "Epoch [2/10], Step [12/23], Loss: 0.7038, Train Accuracy: 50.59%\n",
            "Epoch [2/10], Step [13/23], Loss: 0.6983, Train Accuracy: 48.73%\n",
            "Epoch [2/10], Step [14/23], Loss: 0.7014, Train Accuracy: 46.78%\n",
            "Epoch [2/10], Step [15/23], Loss: 0.7082, Train Accuracy: 49.02%\n",
            "Epoch [2/10], Step [16/23], Loss: 0.6991, Train Accuracy: 49.02%\n",
            "Epoch [2/10], Step [17/23], Loss: 0.7162, Train Accuracy: 48.73%\n",
            "Epoch [2/10], Step [18/23], Loss: 0.7006, Train Accuracy: 50.78%\n",
            "Epoch [2/10], Step [19/23], Loss: 0.7031, Train Accuracy: 47.46%\n",
            "Epoch [2/10], Step [20/23], Loss: 0.6969, Train Accuracy: 50.78%\n",
            "Epoch [2/10], Step [21/23], Loss: 0.6983, Train Accuracy: 50.78%\n",
            "Epoch [2/10], Step [22/23], Loss: 0.6996, Train Accuracy: 49.12%\n",
            "Epoch [2/10], Step [23/23], Loss: 0.6994, Train Accuracy: 48.44%\n",
            "Epoch [3/10], Step [1/23], Loss: 0.6957, Train Accuracy: 50.68%\n",
            "Epoch [3/10], Step [2/23], Loss: 0.7023, Train Accuracy: 50.88%\n",
            "Epoch [3/10], Step [3/23], Loss: 0.7013, Train Accuracy: 50.98%\n",
            "Epoch [3/10], Step [4/23], Loss: 0.6965, Train Accuracy: 50.68%\n",
            "Epoch [3/10], Step [5/23], Loss: 0.6950, Train Accuracy: 50.68%\n",
            "Epoch [3/10], Step [6/23], Loss: 0.7119, Train Accuracy: 49.80%\n",
            "Epoch [3/10], Step [7/23], Loss: 0.6966, Train Accuracy: 49.51%\n",
            "Epoch [3/10], Step [8/23], Loss: 0.6947, Train Accuracy: 49.22%\n",
            "Epoch [3/10], Step [9/23], Loss: 0.6935, Train Accuracy: 48.54%\n",
            "Epoch [3/10], Step [10/23], Loss: 0.6943, Train Accuracy: 50.39%\n",
            "Epoch [3/10], Step [11/23], Loss: 0.7059, Train Accuracy: 51.07%\n",
            "Epoch [3/10], Step [12/23], Loss: 0.7004, Train Accuracy: 50.29%\n",
            "Epoch [3/10], Step [13/23], Loss: 0.6965, Train Accuracy: 48.14%\n",
            "Epoch [3/10], Step [14/23], Loss: 0.6989, Train Accuracy: 48.83%\n",
            "Epoch [3/10], Step [15/23], Loss: 0.7020, Train Accuracy: 48.83%\n",
            "Epoch [3/10], Step [16/23], Loss: 0.6955, Train Accuracy: 49.61%\n",
            "Epoch [3/10], Step [17/23], Loss: 0.7084, Train Accuracy: 50.20%\n",
            "Epoch [3/10], Step [18/23], Loss: 0.6955, Train Accuracy: 49.61%\n",
            "Epoch [3/10], Step [19/23], Loss: 0.6962, Train Accuracy: 48.44%\n",
            "Epoch [3/10], Step [20/23], Loss: 0.6950, Train Accuracy: 51.37%\n",
            "Epoch [3/10], Step [21/23], Loss: 0.6929, Train Accuracy: 52.05%\n",
            "Epoch [3/10], Step [22/23], Loss: 0.6943, Train Accuracy: 51.27%\n",
            "Epoch [3/10], Step [23/23], Loss: 0.6959, Train Accuracy: 50.39%\n",
            "Epoch [4/10], Step [1/23], Loss: 0.6935, Train Accuracy: 52.25%\n",
            "Epoch [4/10], Step [2/23], Loss: 0.7017, Train Accuracy: 48.44%\n",
            "Epoch [4/10], Step [3/23], Loss: 0.7001, Train Accuracy: 50.59%\n",
            "Epoch [4/10], Step [4/23], Loss: 0.6970, Train Accuracy: 48.24%\n",
            "Epoch [4/10], Step [5/23], Loss: 0.6949, Train Accuracy: 52.73%\n",
            "Epoch [4/10], Step [6/23], Loss: 0.7105, Train Accuracy: 48.63%\n",
            "Epoch [4/10], Step [7/23], Loss: 0.6938, Train Accuracy: 50.10%\n",
            "Epoch [4/10], Step [8/23], Loss: 0.6958, Train Accuracy: 48.73%\n",
            "Epoch [4/10], Step [9/23], Loss: 0.6939, Train Accuracy: 50.98%\n",
            "Epoch [4/10], Step [10/23], Loss: 0.6951, Train Accuracy: 50.20%\n",
            "Epoch [4/10], Step [11/23], Loss: 0.7006, Train Accuracy: 52.05%\n",
            "Epoch [4/10], Step [12/23], Loss: 0.7041, Train Accuracy: 48.83%\n",
            "Epoch [4/10], Step [13/23], Loss: 0.6938, Train Accuracy: 51.76%\n",
            "Epoch [4/10], Step [14/23], Loss: 0.6966, Train Accuracy: 48.73%\n",
            "Epoch [4/10], Step [15/23], Loss: 0.7026, Train Accuracy: 49.51%\n",
            "Epoch [4/10], Step [16/23], Loss: 0.6959, Train Accuracy: 49.71%\n",
            "Epoch [4/10], Step [17/23], Loss: 0.7065, Train Accuracy: 50.88%\n",
            "Epoch [4/10], Step [18/23], Loss: 0.6966, Train Accuracy: 49.51%\n",
            "Epoch [4/10], Step [19/23], Loss: 0.6941, Train Accuracy: 51.37%\n",
            "Epoch [4/10], Step [20/23], Loss: 0.6943, Train Accuracy: 51.56%\n",
            "Epoch [4/10], Step [21/23], Loss: 0.6933, Train Accuracy: 50.10%\n",
            "Epoch [4/10], Step [22/23], Loss: 0.6932, Train Accuracy: 51.66%\n",
            "Epoch [4/10], Step [23/23], Loss: 0.6971, Train Accuracy: 46.88%\n",
            "Epoch [5/10], Step [1/23], Loss: 0.6963, Train Accuracy: 49.22%\n",
            "Epoch [5/10], Step [2/23], Loss: 0.7037, Train Accuracy: 50.29%\n",
            "Epoch [5/10], Step [3/23], Loss: 0.6980, Train Accuracy: 52.44%\n",
            "Epoch [5/10], Step [4/23], Loss: 0.6951, Train Accuracy: 49.61%\n",
            "Epoch [5/10], Step [5/23], Loss: 0.6937, Train Accuracy: 49.90%\n",
            "Epoch [5/10], Step [6/23], Loss: 0.7074, Train Accuracy: 48.34%\n",
            "Epoch [5/10], Step [7/23], Loss: 0.6965, Train Accuracy: 47.46%\n",
            "Epoch [5/10], Step [8/23], Loss: 0.6953, Train Accuracy: 49.22%\n",
            "Epoch [5/10], Step [9/23], Loss: 0.6951, Train Accuracy: 49.61%\n",
            "Epoch [5/10], Step [10/23], Loss: 0.6938, Train Accuracy: 50.00%\n",
            "Epoch [5/10], Step [11/23], Loss: 0.7026, Train Accuracy: 50.78%\n",
            "Epoch [5/10], Step [12/23], Loss: 0.7014, Train Accuracy: 49.12%\n",
            "Epoch [5/10], Step [13/23], Loss: 0.6941, Train Accuracy: 52.25%\n",
            "Epoch [5/10], Step [14/23], Loss: 0.6970, Train Accuracy: 48.83%\n",
            "Epoch [5/10], Step [15/23], Loss: 0.6993, Train Accuracy: 51.46%\n",
            "Epoch [5/10], Step [16/23], Loss: 0.6954, Train Accuracy: 49.61%\n",
            "Epoch [5/10], Step [17/23], Loss: 0.7074, Train Accuracy: 50.88%\n",
            "Epoch [5/10], Step [18/23], Loss: 0.6967, Train Accuracy: 48.63%\n",
            "Epoch [5/10], Step [19/23], Loss: 0.6956, Train Accuracy: 49.12%\n",
            "Epoch [5/10], Step [20/23], Loss: 0.6949, Train Accuracy: 48.63%\n",
            "Epoch [5/10], Step [21/23], Loss: 0.6950, Train Accuracy: 50.78%\n",
            "Epoch [5/10], Step [22/23], Loss: 0.6940, Train Accuracy: 50.78%\n",
            "Epoch [5/10], Step [23/23], Loss: 0.6953, Train Accuracy: 49.41%\n",
            "Epoch [6/10], Step [1/23], Loss: 0.6968, Train Accuracy: 46.58%\n",
            "Epoch [6/10], Step [2/23], Loss: 0.7032, Train Accuracy: 48.93%\n",
            "Epoch [6/10], Step [3/23], Loss: 0.7016, Train Accuracy: 50.68%\n",
            "Epoch [6/10], Step [4/23], Loss: 0.6939, Train Accuracy: 50.10%\n",
            "Epoch [6/10], Step [5/23], Loss: 0.6942, Train Accuracy: 50.78%\n",
            "Epoch [6/10], Step [6/23], Loss: 0.7067, Train Accuracy: 49.61%\n",
            "Epoch [6/10], Step [7/23], Loss: 0.6940, Train Accuracy: 47.36%\n",
            "Epoch [6/10], Step [8/23], Loss: 0.6939, Train Accuracy: 50.00%\n",
            "Epoch [6/10], Step [9/23], Loss: 0.6938, Train Accuracy: 48.44%\n",
            "Epoch [6/10], Step [10/23], Loss: 0.6939, Train Accuracy: 50.78%\n",
            "Epoch [6/10], Step [11/23], Loss: 0.7016, Train Accuracy: 51.95%\n",
            "Epoch [6/10], Step [12/23], Loss: 0.7038, Train Accuracy: 48.44%\n"
          ]
        },
        {
          "output_type": "error",
          "ename": "KeyboardInterrupt",
          "evalue": "ignored",
          "traceback": [
            "\u001b[0;31m---------------------------------------------------------------------------\u001b[0m",
            "\u001b[0;31mKeyboardInterrupt\u001b[0m                         Traceback (most recent call last)",
            "\u001b[0;32m<ipython-input-54-9c5f6f4f540e>\u001b[0m in \u001b[0;36m<cell line: 4>\u001b[0;34m()\u001b[0m\n\u001b[1;32m      8\u001b[0m         \u001b[0msignals\u001b[0m\u001b[0;34m=\u001b[0m\u001b[0msignals\u001b[0m\u001b[0;34m\u001b[0m\u001b[0;34m\u001b[0m\u001b[0m\n\u001b[1;32m      9\u001b[0m         \u001b[0mlabels\u001b[0m\u001b[0;34m=\u001b[0m\u001b[0mlabels\u001b[0m\u001b[0;34m\u001b[0m\u001b[0;34m\u001b[0m\u001b[0m\n\u001b[0;32m---> 10\u001b[0;31m         \u001b[0moutputs\u001b[0m \u001b[0;34m=\u001b[0m \u001b[0mcnn\u001b[0m\u001b[0;34m(\u001b[0m\u001b[0msignals\u001b[0m\u001b[0;34m.\u001b[0m\u001b[0mdouble\u001b[0m\u001b[0;34m(\u001b[0m\u001b[0;34m)\u001b[0m\u001b[0;34m)\u001b[0m\u001b[0;34m\u001b[0m\u001b[0;34m\u001b[0m\u001b[0m\n\u001b[0m\u001b[1;32m     11\u001b[0m         \u001b[0mloss\u001b[0m \u001b[0;34m=\u001b[0m \u001b[0mcriterion\u001b[0m\u001b[0;34m(\u001b[0m\u001b[0moutputs\u001b[0m\u001b[0;34m,\u001b[0m \u001b[0mlabels\u001b[0m\u001b[0;34m.\u001b[0m\u001b[0mlong\u001b[0m\u001b[0;34m(\u001b[0m\u001b[0;34m)\u001b[0m\u001b[0;34m)\u001b[0m\u001b[0;34m\u001b[0m\u001b[0;34m\u001b[0m\u001b[0m\n\u001b[1;32m     12\u001b[0m \u001b[0;34m\u001b[0m\u001b[0m\n",
            "\u001b[0;32m/usr/local/lib/python3.9/dist-packages/torch/nn/modules/module.py\u001b[0m in \u001b[0;36m_call_impl\u001b[0;34m(self, *args, **kwargs)\u001b[0m\n\u001b[1;32m   1499\u001b[0m                 \u001b[0;32mor\u001b[0m \u001b[0m_global_backward_pre_hooks\u001b[0m \u001b[0;32mor\u001b[0m \u001b[0m_global_backward_hooks\u001b[0m\u001b[0;34m\u001b[0m\u001b[0;34m\u001b[0m\u001b[0m\n\u001b[1;32m   1500\u001b[0m                 or _global_forward_hooks or _global_forward_pre_hooks):\n\u001b[0;32m-> 1501\u001b[0;31m             \u001b[0;32mreturn\u001b[0m \u001b[0mforward_call\u001b[0m\u001b[0;34m(\u001b[0m\u001b[0;34m*\u001b[0m\u001b[0margs\u001b[0m\u001b[0;34m,\u001b[0m \u001b[0;34m**\u001b[0m\u001b[0mkwargs\u001b[0m\u001b[0;34m)\u001b[0m\u001b[0;34m\u001b[0m\u001b[0;34m\u001b[0m\u001b[0m\n\u001b[0m\u001b[1;32m   1502\u001b[0m         \u001b[0;31m# Do not call functions when jit is used\u001b[0m\u001b[0;34m\u001b[0m\u001b[0;34m\u001b[0m\u001b[0m\n\u001b[1;32m   1503\u001b[0m         \u001b[0mfull_backward_hooks\u001b[0m\u001b[0;34m,\u001b[0m \u001b[0mnon_full_backward_hooks\u001b[0m \u001b[0;34m=\u001b[0m \u001b[0;34m[\u001b[0m\u001b[0;34m]\u001b[0m\u001b[0;34m,\u001b[0m \u001b[0;34m[\u001b[0m\u001b[0;34m]\u001b[0m\u001b[0;34m\u001b[0m\u001b[0;34m\u001b[0m\u001b[0m\n",
            "\u001b[0;32m<ipython-input-51-eced20f66e7e>\u001b[0m in \u001b[0;36mforward\u001b[0;34m(self, x)\u001b[0m\n\u001b[1;32m     13\u001b[0m         \u001b[0min_size\u001b[0m \u001b[0;34m=\u001b[0m \u001b[0mx\u001b[0m\u001b[0;34m.\u001b[0m\u001b[0msize\u001b[0m\u001b[0;34m(\u001b[0m\u001b[0;36m0\u001b[0m\u001b[0;34m)\u001b[0m\u001b[0;34m\u001b[0m\u001b[0;34m\u001b[0m\u001b[0m\n\u001b[1;32m     14\u001b[0m         \u001b[0mx\u001b[0m \u001b[0;34m=\u001b[0m \u001b[0mF\u001b[0m\u001b[0;34m.\u001b[0m\u001b[0mrelu\u001b[0m\u001b[0;34m(\u001b[0m\u001b[0mself\u001b[0m\u001b[0;34m.\u001b[0m\u001b[0mmp1\u001b[0m\u001b[0;34m(\u001b[0m\u001b[0mself\u001b[0m\u001b[0;34m.\u001b[0m\u001b[0mconv1\u001b[0m\u001b[0;34m(\u001b[0m\u001b[0mx\u001b[0m\u001b[0;34m)\u001b[0m\u001b[0;34m)\u001b[0m\u001b[0;34m)\u001b[0m\u001b[0;34m\u001b[0m\u001b[0;34m\u001b[0m\u001b[0m\n\u001b[0;32m---> 15\u001b[0;31m         \u001b[0mx\u001b[0m \u001b[0;34m=\u001b[0m \u001b[0mF\u001b[0m\u001b[0;34m.\u001b[0m\u001b[0mrelu\u001b[0m\u001b[0;34m(\u001b[0m\u001b[0mself\u001b[0m\u001b[0;34m.\u001b[0m\u001b[0mmp2\u001b[0m\u001b[0;34m(\u001b[0m\u001b[0mself\u001b[0m\u001b[0;34m.\u001b[0m\u001b[0mconv2\u001b[0m\u001b[0;34m(\u001b[0m\u001b[0mx\u001b[0m\u001b[0;34m)\u001b[0m\u001b[0;34m)\u001b[0m\u001b[0;34m)\u001b[0m\u001b[0;34m\u001b[0m\u001b[0;34m\u001b[0m\u001b[0m\n\u001b[0m\u001b[1;32m     16\u001b[0m         \u001b[0mx\u001b[0m \u001b[0;34m=\u001b[0m \u001b[0mx\u001b[0m\u001b[0;34m.\u001b[0m\u001b[0mview\u001b[0m\u001b[0;34m(\u001b[0m\u001b[0min_size\u001b[0m\u001b[0;34m,\u001b[0m\u001b[0;34m-\u001b[0m\u001b[0;36m1\u001b[0m\u001b[0;34m)\u001b[0m\u001b[0;34m\u001b[0m\u001b[0;34m\u001b[0m\u001b[0m\n\u001b[1;32m     17\u001b[0m         \u001b[0mx\u001b[0m \u001b[0;34m=\u001b[0m \u001b[0mF\u001b[0m\u001b[0;34m.\u001b[0m\u001b[0mrelu\u001b[0m\u001b[0;34m(\u001b[0m\u001b[0mself\u001b[0m\u001b[0;34m.\u001b[0m\u001b[0mfc1\u001b[0m\u001b[0;34m(\u001b[0m\u001b[0mx\u001b[0m\u001b[0;34m)\u001b[0m\u001b[0;34m)\u001b[0m\u001b[0;34m\u001b[0m\u001b[0;34m\u001b[0m\u001b[0m\n",
            "\u001b[0;32m/usr/local/lib/python3.9/dist-packages/torch/nn/modules/module.py\u001b[0m in \u001b[0;36m_call_impl\u001b[0;34m(self, *args, **kwargs)\u001b[0m\n\u001b[1;32m   1499\u001b[0m                 \u001b[0;32mor\u001b[0m \u001b[0m_global_backward_pre_hooks\u001b[0m \u001b[0;32mor\u001b[0m \u001b[0m_global_backward_hooks\u001b[0m\u001b[0;34m\u001b[0m\u001b[0;34m\u001b[0m\u001b[0m\n\u001b[1;32m   1500\u001b[0m                 or _global_forward_hooks or _global_forward_pre_hooks):\n\u001b[0;32m-> 1501\u001b[0;31m             \u001b[0;32mreturn\u001b[0m \u001b[0mforward_call\u001b[0m\u001b[0;34m(\u001b[0m\u001b[0;34m*\u001b[0m\u001b[0margs\u001b[0m\u001b[0;34m,\u001b[0m \u001b[0;34m**\u001b[0m\u001b[0mkwargs\u001b[0m\u001b[0;34m)\u001b[0m\u001b[0;34m\u001b[0m\u001b[0;34m\u001b[0m\u001b[0m\n\u001b[0m\u001b[1;32m   1502\u001b[0m         \u001b[0;31m# Do not call functions when jit is used\u001b[0m\u001b[0;34m\u001b[0m\u001b[0;34m\u001b[0m\u001b[0m\n\u001b[1;32m   1503\u001b[0m         \u001b[0mfull_backward_hooks\u001b[0m\u001b[0;34m,\u001b[0m \u001b[0mnon_full_backward_hooks\u001b[0m \u001b[0;34m=\u001b[0m \u001b[0;34m[\u001b[0m\u001b[0;34m]\u001b[0m\u001b[0;34m,\u001b[0m \u001b[0;34m[\u001b[0m\u001b[0;34m]\u001b[0m\u001b[0;34m\u001b[0m\u001b[0;34m\u001b[0m\u001b[0m\n",
            "\u001b[0;32m/usr/local/lib/python3.9/dist-packages/torch/nn/modules/conv.py\u001b[0m in \u001b[0;36mforward\u001b[0;34m(self, input)\u001b[0m\n\u001b[1;32m    461\u001b[0m \u001b[0;34m\u001b[0m\u001b[0m\n\u001b[1;32m    462\u001b[0m     \u001b[0;32mdef\u001b[0m \u001b[0mforward\u001b[0m\u001b[0;34m(\u001b[0m\u001b[0mself\u001b[0m\u001b[0;34m,\u001b[0m \u001b[0minput\u001b[0m\u001b[0;34m:\u001b[0m \u001b[0mTensor\u001b[0m\u001b[0;34m)\u001b[0m \u001b[0;34m->\u001b[0m \u001b[0mTensor\u001b[0m\u001b[0;34m:\u001b[0m\u001b[0;34m\u001b[0m\u001b[0;34m\u001b[0m\u001b[0m\n\u001b[0;32m--> 463\u001b[0;31m         \u001b[0;32mreturn\u001b[0m \u001b[0mself\u001b[0m\u001b[0;34m.\u001b[0m\u001b[0m_conv_forward\u001b[0m\u001b[0;34m(\u001b[0m\u001b[0minput\u001b[0m\u001b[0;34m,\u001b[0m \u001b[0mself\u001b[0m\u001b[0;34m.\u001b[0m\u001b[0mweight\u001b[0m\u001b[0;34m,\u001b[0m \u001b[0mself\u001b[0m\u001b[0;34m.\u001b[0m\u001b[0mbias\u001b[0m\u001b[0;34m)\u001b[0m\u001b[0;34m\u001b[0m\u001b[0;34m\u001b[0m\u001b[0m\n\u001b[0m\u001b[1;32m    464\u001b[0m \u001b[0;34m\u001b[0m\u001b[0m\n\u001b[1;32m    465\u001b[0m \u001b[0;32mclass\u001b[0m \u001b[0mConv3d\u001b[0m\u001b[0;34m(\u001b[0m\u001b[0m_ConvNd\u001b[0m\u001b[0;34m)\u001b[0m\u001b[0;34m:\u001b[0m\u001b[0;34m\u001b[0m\u001b[0;34m\u001b[0m\u001b[0m\n",
            "\u001b[0;32m/usr/local/lib/python3.9/dist-packages/torch/nn/modules/conv.py\u001b[0m in \u001b[0;36m_conv_forward\u001b[0;34m(self, input, weight, bias)\u001b[0m\n\u001b[1;32m    457\u001b[0m                             \u001b[0mweight\u001b[0m\u001b[0;34m,\u001b[0m \u001b[0mbias\u001b[0m\u001b[0;34m,\u001b[0m \u001b[0mself\u001b[0m\u001b[0;34m.\u001b[0m\u001b[0mstride\u001b[0m\u001b[0;34m,\u001b[0m\u001b[0;34m\u001b[0m\u001b[0;34m\u001b[0m\u001b[0m\n\u001b[1;32m    458\u001b[0m                             _pair(0), self.dilation, self.groups)\n\u001b[0;32m--> 459\u001b[0;31m         return F.conv2d(input, weight, bias, self.stride,\n\u001b[0m\u001b[1;32m    460\u001b[0m                         self.padding, self.dilation, self.groups)\n\u001b[1;32m    461\u001b[0m \u001b[0;34m\u001b[0m\u001b[0m\n",
            "\u001b[0;31mKeyboardInterrupt\u001b[0m: "
          ]
        }
      ],
      "source": [
        "total_step = len(train_loader)\n",
        "loss_list = []\n",
        "acc_list = []\n",
        "for epoch in range(num_epochs):\n",
        "    for i, (signals, labels) in enumerate(train_loader):\n",
        "        optimizer.zero_grad()\n",
        "        # Run the forward pass\n",
        "        signals=signals\n",
        "        labels=labels\n",
        "        outputs = cnn(signals.double())\n",
        "        loss = criterion(outputs, labels.long())\n",
        "        \n",
        "        loss_list.append(loss.item())\n",
        "\n",
        "        # Backprop and perform Adam optimisation\n",
        "        \n",
        "        loss.backward()\n",
        "        optimizer.step()\n",
        "        # Track the accuracy\n",
        "        total = labels.size(0)\n",
        "        _, predicted = torch.max(outputs.data, 1)\n",
        "        correct = (predicted == labels.long()).sum().item()\n",
        "        acc_list.append(correct / total)\n",
        "\n",
        "        if (epoch+1) % 1 == 0 or epoch==0:\n",
        "            print('Epoch [{}/{}], Step [{}/{}], Loss: {:.4f}, Train Accuracy: {:.2f}%'\n",
        "                  .format(epoch + 1, num_epochs, i + 1, total_step, loss.item(),\n",
        "                          (correct / total) * 100))\n",
        "        "
      ]
    },
    {
      "cell_type": "code",
      "source": [
        "len(acc_list)"
      ],
      "metadata": {
        "colab": {
          "base_uri": "https://localhost:8080/"
        },
        "id": "zxFaBT0cQwP6",
        "outputId": "081f2e4e-7758-4879-ca82-4ea9fefae8da"
      },
      "execution_count": null,
      "outputs": [
        {
          "output_type": "execute_result",
          "data": {
            "text/plain": [
              "230"
            ]
          },
          "metadata": {},
          "execution_count": 40
        }
      ]
    },
    {
      "cell_type": "code",
      "source": [
        "b = []\n",
        "for i in range(len(loss_list[50:])):\n",
        "  b.append(i+1)\n",
        "b = np.array(b)\n",
        "\n",
        "plt.plot(b, loss_list[50:], 'r')\n",
        "plt.plot(b, acc_list[50:], 'b')\n",
        "plt.xlabel('Steps')\n",
        "plt.ylabel('Loss & Accuracy')\n",
        "plt.show()"
      ],
      "metadata": {
        "colab": {
          "base_uri": "https://localhost:8080/",
          "height": 449
        },
        "id": "61Ytuo0IQcQE",
        "outputId": "571b4b50-ddb1-4984-e632-e552bdaf3038"
      },
      "execution_count": null,
      "outputs": [
        {
          "output_type": "display_data",
          "data": {
            "text/plain": [
              "<Figure size 640x480 with 1 Axes>"
            ],
            "image/png": "[encoded data removed]"
          },
          "metadata": {}
        }
      ]
    },
    {
      "cell_type": "code",
      "source": [
        "total_step = len(test_loader)\n",
        "print(total_step)\n",
        "loss_list_test = []\n",
        "acc_list_test = []\n",
        "with torch.no_grad():\n",
        "    for i, (signals, labels) in enumerate(test_loader):\n",
        "        # Run the forward pass\n",
        "        #print(labels)\n",
        "        signals=signals\n",
        "        labels=labels\n",
        "        outputs = cnn(signals.double())\n",
        "        loss = criterion(outputs, labels.long())\n",
        "        loss_list_test.append(loss.item())\n",
        "        if epoch%10 ==0:\n",
        "            print(loss)\n",
        "        total = labels.size(0)\n",
        "        _, predicted = torch.max(outputs.data, 1)\n",
        "        correct = (predicted == labels.long()).sum().item()\n",
        "        acc_list_test.append(correct / total)\n",
        "        #print(outputs.shape)\n",
        "        #print(outputs)\n",
        "        #print(predicted)\n",
        "        #print(labels.shape)\n",
        "        if (epoch) % 1 == 0:\n",
        "            print('Epoch [{}/{}], Step [{}/{}], Loss: {:.4f}, Accuracy: {:.2f}%'\n",
        "                  .format(epoch + 1, num_epochs, i + 1, total_step, loss.item(),\n",
        "                          (correct / total) * 100))"
      ],
      "metadata": {
        "id": "IK1P11BXP875"
      },
      "execution_count": null,
      "outputs": []
    },
    {
      "cell_type": "code",
      "source": [
        "labels"
      ],
      "metadata": {
        "id": "mSfWV9ztQLQS"
      },
      "execution_count": null,
      "outputs": []
    },
    {
      "cell_type": "code",
      "source": [
        "predicted"
      ],
      "metadata": {
        "id": "qYhXJyGFQPpQ"
      },
      "execution_count": null,
      "outputs": []
    },
    {
      "cell_type": "code",
      "source": [
        "from sklearn.metrics import confusion_matrix\n",
        "from sklearn.metrics import ConfusionMatrixDisplay\n",
        "\n",
        "cm = confusion_matrix(labels, predicted)\n",
        "\n",
        "cm_display = ConfusionMatrixDisplay(cm).plot()\n"
      ],
      "metadata": {
        "id": "uONIbFoOQD6p"
      },
      "execution_count": null,
      "outputs": []
    },
    {
      "cell_type": "code",
      "source": [
        "from operator import truediv\n",
        "\n",
        "tp = np.diag(cm)\n",
        "prec = list(map(truediv, tp, np.sum(cm, axis=0)))\n",
        "rec = list(map(truediv, tp, np.sum(cm, axis=1)))\n",
        "print ('Precision: {}\\nRecall: {}'.format(prec, rec))"
      ],
      "metadata": {
        "id": "DUAnbTRtQY_I"
      },
      "execution_count": null,
      "outputs": []
    },
    {
      "cell_type": "code",
      "source": [
        "from sklearn.metrics import f1_score\n",
        "\n",
        "f1 = f1_score(labels, predicted, average='macro')\n",
        "print('F1 score:', f1)"
      ],
      "metadata": {
        "id": "srG06Z9VQgtY"
      },
      "execution_count": null,
      "outputs": []
    }
  ],
  "metadata": {
    "kernelspec": {
      "display_name": "MyNew",
      "language": "python",
      "name": "python3"
    },
    "language_info": {
      "codemirror_mode": {
        "name": "ipython",
        "version": 3
      },
      "file_extension": ".py",
      "mimetype": "text/x-python",
      "name": "python",
      "nbconvert_exporter": "python",
      "pygments_lexer": "ipython3",
      "version": "3.7.15"
    },
    "orig_nbformat": 4,
    "colab": {
      "provenance": []
    }
  },
  "nbformat": 4,
  "nbformat_minor": 0
}